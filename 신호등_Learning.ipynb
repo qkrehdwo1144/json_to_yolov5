{
  "nbformat": 4,
  "nbformat_minor": 0,
  "metadata": {
    "colab": {
      "provenance": [],
      "authorship_tag": "ABX9TyOllkx4XvHnAJ893iXZ+0it",
      "include_colab_link": true
    },
    "kernelspec": {
      "name": "python3",
      "display_name": "Python 3"
    },
    "language_info": {
      "name": "python"
    }
  },
  "cells": [
    {
      "cell_type": "markdown",
      "metadata": {
        "id": "view-in-github",
        "colab_type": "text"
      },
      "source": [
        "<a href=\"https://colab.research.google.com/github/qkrehdwo1144/json_to_yolov5/blob/main/%EC%8B%A0%ED%98%B8%EB%93%B1_Learning.ipynb\" target=\"_parent\"><img src=\"https://colab.research.google.com/assets/colab-badge.svg\" alt=\"Open In Colab\"/></a>"
      ]
    },
    {
      "cell_type": "markdown",
      "source": [
        "**Yolov5 설치**"
      ],
      "metadata": {
        "id": "dzdXh5yeD8_7"
      }
    },
    {
      "cell_type": "code",
      "execution_count": 1,
      "metadata": {
        "id": "7fyMM6gS5WMY",
        "colab": {
          "base_uri": "https://localhost:8080/"
        },
        "outputId": "a3cdccdc-c69a-4d3c-fbd5-c79ebf33e97a"
      },
      "outputs": [
        {
          "output_type": "stream",
          "name": "stdout",
          "text": [
            "Cloning into 'yolov5'...\n",
            "remote: Enumerating objects: 17080, done.\u001b[K\n",
            "remote: Counting objects: 100% (31/31), done.\u001b[K\n",
            "remote: Compressing objects: 100% (24/24), done.\u001b[K\n",
            "remote: Total 17080 (delta 20), reused 7 (delta 7), pack-reused 17049 (from 2)\u001b[K\n",
            "Receiving objects: 100% (17080/17080), 15.69 MiB | 15.14 MiB/s, done.\n",
            "Resolving deltas: 100% (11725/11725), done.\n"
          ]
        }
      ],
      "source": [
        "!git clone https://github.com/ultralytics/yolov5\n",
        "%cd yolov5\n",
        "%pip install -qr requirements.txt"
      ]
    },
    {
      "cell_type": "markdown",
      "source": [
        "**이미지 파일 관리**"
      ],
      "metadata": {
        "id": "F4B7SXTkD8Ta"
      }
    },
    {
      "cell_type": "code",
      "source": [
        "!mkdir labels\n",
        "!mkdir images"
      ],
      "metadata": {
        "id": "PRQnGYkCD6JI"
      },
      "execution_count": null,
      "outputs": []
    },
    {
      "cell_type": "code",
      "source": [
        "import torch\n",
        "import os\n",
        "from Ipython.display import image, clear_output"
      ],
      "metadata": {
        "id": "KGyZCET_EH5U"
      },
      "execution_count": null,
      "outputs": []
    },
    {
      "cell_type": "code",
      "source": [
        "!python train.py --img 512 --batch 16 --epochs 500 --data /content/yolov5/data.yaml --weights /content/yolov5/yolov5n.pt --cache"
      ],
      "metadata": {
        "id": "L-adA6WVEmd4"
      },
      "execution_count": null,
      "outputs": []
    },
    {
      "cell_type": "code",
      "source": [
        "!python detect.py --weights runs/train/exp/weights/best.pt --img 416 --conf 0.1 --source /content/yolov5/images"
      ],
      "metadata": {
        "id": "BFmAUFRJE9Rn"
      },
      "execution_count": null,
      "outputs": []
    },
    {
      "cell_type": "code",
      "source": [
        "import glob\n",
        "from IPython.display import image, display\n",
        "\n",
        "for imageName in glob.glob('/content/yolov5/runs/detect/exp/*.jpg'):\n",
        "  display(image(filename=imageName))\n",
        "  print(\"\\n\")"
      ],
      "metadata": {
        "id": "8h3klKQjFMFM"
      },
      "execution_count": null,
      "outputs": []
    },
    {
      "cell_type": "code",
      "source": [
        "%load_ext tensorboard\n",
        "%tensorboard --logdir runs"
      ],
      "metadata": {
        "id": "Wi8UKhsxGW4I"
      },
      "execution_count": null,
      "outputs": []
    },
    {
      "cell_type": "code",
      "source": [
        "!python export.py --img 512 --weights '/content/yolov5/runs/train/exp/weights/best.pt' --include torchscript onnx"
      ],
      "metadata": {
        "id": "7R0hz5miGgOX"
      },
      "execution_count": null,
      "outputs": []
    }
  ]
}